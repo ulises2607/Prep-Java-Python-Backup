{
  "cells": [
    {
      "cell_type": "markdown",
      "metadata": {
        "id": "K4wdiDmfqllE"
      },
      "source": [
        "#Comisión Martes y Jueves\n",
        "\n",
        "Generar aleatoriamente 1000 números entre [0, 100] en una lista y solicitar al usuario un digito. Informar la cantidad de ocurrencias del digito en la lista, utilizando para ello una función que calcule la frecuencia.\n",
        "\n",
        "```python\n",
        "    #AYUDA\n",
        "    #1- GENERANDO números aleatorios enteros\n",
        "    import random as rd\n",
        "    rd.randinit(inicial, final) #Devuelve un número\n",
        "```"
      ]
    },
    {
      "cell_type": "code",
      "execution_count": 1,
      "metadata": {
        "id": "xmurRVSe7SMn"
      },
      "outputs": [
        {
          "name": "stdout",
          "output_type": "stream",
          "text": [
            "contando cuantas veces se repite 8:\n",
            "\n",
            "La cantidad de apariciones de 8 es: 178\n"
          ]
        }
      ],
      "source": [
        "import random as rd\n",
        "\n",
        "def contar_frecuencia(lista, digito):\n",
        "  contar = 0\n",
        "  for num in lista:\n",
        "    while num !=0:\n",
        "      numero = num % 10\n",
        "      if numero == digito:\n",
        "        contar +=1\n",
        "      num = num // 10\n",
        "  return contar\n",
        "\n",
        "lista_numero = []\n",
        "for i in range(1000):\n",
        "  lista_numero.append(rd.randint(0,100))\n",
        "digito = int(input(\"Ingresar un digito: \"))\n",
        "print(f\"contando cuantas veces se repite {digito}:\\n\")\n",
        "print(f\"La cantidad de apariciones de {digito} es: {contar_frecuencia(lista_numero,digito)}\") "
      ]
    },
    {
      "cell_type": "markdown",
      "metadata": {
        "id": "y2UVvXSAxvsB"
      },
      "source": [
        "#Comisión Lunes y Miércoles\n",
        "\n",
        "Se desean registrar usuarios en una aplicación. Para ello se solicitan una dirección de correo electrónico y una contraseña. Particularmente nos centraremos en este último dato, del cual deberemos asegurar que cumpla con ciertos criterios de seguridad.\n",
        "\n",
        "Con la problemática planteada antes se solicita implementar una función que permita validar la seguridad de una contraseña atendiendo a las siguientes restricciones:\n",
        "\n",
        "```python\n",
        "    #Debe incluir al menos una letra en minúscula.\n",
        "    #Debe incluir al menos una letra en mayúscula.\n",
        "    #Debe incluir al menos un carácter numérico.\n",
        "    #Debe incluir contener un mínimo de 8 caracteres\n",
        "    #No debe tener más de 16 caracteres.\n",
        "\n",
        "    #AYUDA\n",
        "    #1- GENERANDO ABECEDARIO EN MAYÚSCULA Y MINÚSCULA\n",
        "    import string\n",
        "    string.ascii_uppercase\n",
        "    string.ascii_lowercase\n",
        "    \n",
        "    #2- Como saber si un carácter es un número con \"isdigit()\"\n",
        "    cadena = \"1\"\n",
        "    cadena.isdigit() # Devuelve True si es un número o False en caso contrario\n",
        "´´´\n"
      ]
    },
    {
      "cell_type": "code",
      "execution_count": 1,
      "metadata": {
        "colab": {
          "base_uri": "https://localhost:8080/"
        },
        "id": "jh8OmVZL1Rcv",
        "outputId": "c1969d40-4695-4a52-8959-0b0ee1a3f143"
      },
      "outputs": [
        {
          "name": "stdout",
          "output_type": "stream",
          "text": [
            "True\n"
          ]
        }
      ],
      "source": [
        "import string\n",
        "\n",
        "\n",
        "def validar_pass(contrasenia):\n",
        "  mayusculas = string.ascii_uppercase\n",
        "  minusculas = string.ascii_lowercase\n",
        "  m = M = d = 0\n",
        "  ban = False\n",
        "  if (len(contrasenia)>=8 and len(contrasenia)<=16):\n",
        "    for pos in range(len(contrasenia)):\n",
        "      if contrasenia[pos] in minusculas and m==0:\n",
        "        m = 1\n",
        "      if contrasenia[pos] in mayusculas and M==0:\n",
        "        M = 1\n",
        "      if contrasenia[pos].isdigit() and d==0:\n",
        "        d = 1\n",
        "      if m == 1 and M == 1 and d == 1:\n",
        "        ban = True\n",
        "        break\n",
        "  return ban\n",
        "\n",
        "print(validar_pass(\"SsdsdA9d\"))"
      ]
    }
  ],
  "metadata": {
    "colab": {
      "provenance": []
    },
    "kernelspec": {
      "display_name": "Python 3.9.7 64-bit",
      "language": "python",
      "name": "python3"
    },
    "language_info": {
      "codemirror_mode": {
        "name": "ipython",
        "version": 3
      },
      "file_extension": ".py",
      "mimetype": "text/x-python",
      "name": "python",
      "nbconvert_exporter": "python",
      "pygments_lexer": "ipython3",
      "version": "3.9.7"
    },
    "vscode": {
      "interpreter": {
        "hash": "825f800c515580ac6a761bc285df609ad4f80600ef4f982ec6de1f194f94d380"
      }
    }
  },
  "nbformat": 4,
  "nbformat_minor": 0
}
